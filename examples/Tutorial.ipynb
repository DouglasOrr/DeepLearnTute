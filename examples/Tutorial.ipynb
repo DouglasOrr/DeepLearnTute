{
 "cells": [
  {
   "cell_type": "code",
   "execution_count": null,
   "metadata": {},
   "outputs": [],
   "source": [
    "# Import useful packages\n",
    "\n",
    "%matplotlib inline\n",
    "import dlt\n",
    "import numpy as np\n",
    "import chainer as C"
   ]
  },
  {
   "cell_type": "code",
   "execution_count": null,
   "metadata": {},
   "outputs": [],
   "source": [
    "# (TODO) Implement a simple classifier manually\n",
    "\n",
    "def simple_classifier(image, debug=True):\n",
    "    average_pixel_value = np.mean(image)\n",
    "    if debug:\n",
    "        print(\"Average pixel:\", average_pixel_value)\n",
    "    # TODO - try to detect \"a\" or \"b\" just from average_pixel_value\n",
    "    return \"a\"\n",
    "\n",
    "dlt.CustomInput(simple_classifier)"
   ]
  },
  {
   "cell_type": "code",
   "execution_count": null,
   "metadata": {},
   "outputs": [],
   "source": [
    "# Load up & show the data\n",
    "\n",
    "train = dlt.load_hdf5(\"/data/uji/train.hdf\")\n",
    "valid = dlt.load_hdf5(\"/data/uji/valid.hdf\")\n",
    "print(\"  Training: %s\" % train)\n",
    "print(\"Validation: %s\" % valid)\n",
    "train.show()"
   ]
  },
  {
   "cell_type": "code",
   "execution_count": null,
   "metadata": {},
   "outputs": [],
   "source": [
    "# Explore the data\n",
    "\n",
    "print(\"vocab:\", train.vocab)\n",
    "print()\n",
    "print(\"--- first training example: ---\")\n",
    "print(\"target:\", train.y[0])\n",
    "print(\"character:\", train.vocab[train.y[0]])\n",
    "print(\"input:\", train.x[0])"
   ]
  },
  {
   "cell_type": "code",
   "execution_count": null,
   "metadata": {},
   "outputs": [],
   "source": [
    "# (TODO) Evaluate your simple classifier\n",
    "\n",
    "for label, image in zip(train.y, train.x):\n",
    "    character = train.vocab[label]\n",
    "    if character == \"a\" or character == \"b\":\n",
    "        guess = simple_classifier(image, debug=False)\n",
    "        if guess == character:\n",
    "            pass  # TODO\n",
    "\n",
    "accuracy = 0  # TODO\n",
    "\n",
    "print(\"simple_classifier binary accuracy = {:.1%}\".format(accuracy))"
   ]
  },
  {
   "cell_type": "code",
   "execution_count": null,
   "metadata": {},
   "outputs": [],
   "source": [
    "# (TODO) Select data, define & train a model\n"
   ]
  },
  {
   "cell_type": "code",
   "execution_count": null,
   "metadata": {},
   "outputs": [],
   "source": [
    "# (Optional) Demo your trained classifier\n",
    "\n",
    "def classify(image):\n",
    "    # TODO - replace with real scores\n",
    "    # Hint - if you need a batch dimension, try: image.reshape(1, -1)\n",
    "    scores = np.random.randn(1, len(train.vocab))\n",
    "    print(\"TODO - classify image (image.shape %s -> scores.shape %s)\" % (image.shape, scores.shape))\n",
    "\n",
    "    return train.vocab[np.argmax(scores)]\n",
    "\n",
    "assert classify(valid.x[0, :]) in train.vocab, \"quick test\"\n",
    "dlt.CustomInput(classify)"
   ]
  }
 ],
 "metadata": {
  "kernelspec": {
   "display_name": "Python 3",
   "language": "python",
   "name": "python3"
  },
  "language_info": {
   "codemirror_mode": {
    "name": "ipython",
    "version": 3
   },
   "file_extension": ".py",
   "mimetype": "text/x-python",
   "name": "python",
   "nbconvert_exporter": "python",
   "pygments_lexer": "ipython3",
   "version": "3.5.2"
  }
 },
 "nbformat": 4,
 "nbformat_minor": 2
}
