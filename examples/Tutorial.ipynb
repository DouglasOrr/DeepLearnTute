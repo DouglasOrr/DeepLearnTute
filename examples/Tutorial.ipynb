{
 "cells": [
  {
   "cell_type": "code",
   "execution_count": null,
   "metadata": {
    "collapsed": false,
    "deletable": true,
    "editable": true
   },
   "outputs": [],
   "source": [
    "# Import useful packages, load up & show the data\n",
    "\n",
    "%matplotlib inline\n",
    "import dlt\n",
    "import numpy as np\n",
    "import seaborn as sns\n",
    "\n",
    "train = dlt.load_hdf5('/data/uji/train.hdf')\n",
    "valid = dlt.load_hdf5('/data/uji/valid.hdf')\n",
    "#test = dlt.load_hdf5('???')\n",
    "\n",
    "print(\"  Training: %s\" % train)\n",
    "print(\"Validation: %s\" % valid)\n",
    "train.show()"
   ]
  },
  {
   "cell_type": "code",
   "execution_count": null,
   "metadata": {
    "collapsed": false,
    "deletable": true,
    "editable": true
   },
   "outputs": [],
   "source": [
    "# TODO - train a model\n",
    "\n",
    "import chainer as C\n",
    "print(train.vocab)\n",
    "print(train.y[0], train.x[0])"
   ]
  },
  {
   "cell_type": "code",
   "execution_count": null,
   "metadata": {
    "collapsed": false,
    "deletable": true,
    "editable": true
   },
   "outputs": [],
   "source": [
    "# (Optional) log plotting helper example\n",
    "\n",
    "log = dlt.Log()\n",
    "for i in range(20):\n",
    "    log.add('loss', 'train', 1 / (1 + i))\n",
    "    log.add('accuracy', 'train', 2 * i)\n",
    "    log.add('loss', 'valid', 2 / (1 + i))\n",
    "    log.add('accuracy', 'valid', i)\n",
    "log.show()"
   ]
  },
  {
   "cell_type": "code",
   "execution_count": null,
   "metadata": {
    "collapsed": false,
    "deletable": true,
    "editable": true
   },
   "outputs": [],
   "source": [
    "# Demo - try your classifier \n",
    "\n",
    "def classify(img):\n",
    "    print(\"TODO - classify img, shape %s\" % img.shape)\n",
    "    return np.random.choice(train.vocab)\n",
    "\n",
    "dlt.CustomInput(classify)"
   ]
  }
 ],
 "metadata": {
  "kernelspec": {
   "display_name": "Python 3",
   "language": "python",
   "name": "python3"
  },
  "language_info": {
   "codemirror_mode": {
    "name": "ipython",
    "version": 3
   },
   "file_extension": ".py",
   "mimetype": "text/x-python",
   "name": "python",
   "nbconvert_exporter": "python",
   "pygments_lexer": "ipython3",
   "version": "3.5.2"
  }
 },
 "nbformat": 4,
 "nbformat_minor": 2
}
