{
 "cells": [
  {
   "cell_type": "markdown",
   "metadata": {
    "deletable": true,
    "editable": true
   },
   "source": [
    "# Intro to deep learning in Chainer\n",
    "\n",
    "Welcome - this interactive tutorial will introduce you to deep learning in Chainer, as a precursor to the DIY practical tutorial."
   ]
  },
  {
   "cell_type": "markdown",
   "metadata": {},
   "source": [
    "## 0. iPython\n",
    "\n",
    "First off, you need to know how to run code & see the results. When you see like the following, it is an exercise for you to do. Try to do each exercise in order & read the text, to understand what is going on!\n",
    "\n",
    "_**Exercise** - run the next cell by pressing `Shift+Enter`_"
   ]
  },
  {
   "cell_type": "code",
   "execution_count": null,
   "metadata": {
    "collapsed": false,
    "deletable": true,
    "editable": true
   },
   "outputs": [],
   "source": [
    "a = 100\n",
    "print(\"a is\", a)\n",
    "\n",
    "a + 200"
   ]
  },
  {
   "cell_type": "markdown",
   "metadata": {
    "deletable": true,
    "editable": true
   },
   "source": [
    "This is an iPython Notebook. You can write whatever Python code you like here - output like the `print` will be shown below the cell, and the final result is also shown (the result of `a + 200`).\n",
    "\n",
    "_**Note** - your Python code is running on a server I've set up (which has everything you need), not on your local machine._\n",
    "\n",
    "_**Exercise** - save the notebook (do this regularly), by pressing `Ctrl+s` (or the save icon)_\n",
    "\n",
    "_**Hint** - if you are struggling what to write at any point, try pressing `Tab` - iPython should try to offer some sensible completions. If you want to know what a function does, try `Shift+Tab` to bring up documentation._"
   ]
  },
  {
   "cell_type": "markdown",
   "metadata": {
    "deletable": true,
    "editable": true
   },
   "source": [
    "## 1. Numpy\n",
    "\n",
    "Next we'll import the libraries we need..."
   ]
  },
  {
   "cell_type": "code",
   "execution_count": null,
   "metadata": {
    "collapsed": true,
    "deletable": true,
    "editable": true
   },
   "outputs": [],
   "source": [
    "import numpy as np\n",
    "import chainer as C"
   ]
  },
  {
   "cell_type": "markdown",
   "metadata": {
    "deletable": true,
    "editable": true
   },
   "source": [
    "Now we'll learn how to use these libraries to create deep learning functions (later, in the full tutorial, we'll use this to train a handwriting recognizer).\n",
    "\n",
    "Here are two ways to create a numpy array:"
   ]
  },
  {
   "cell_type": "code",
   "execution_count": null,
   "metadata": {
    "collapsed": false,
    "deletable": true,
    "editable": true
   },
   "outputs": [],
   "source": [
    "a = np.array([1, 2, 3, 4, 5], dtype=np.int32)\n",
    "print(\"a =\", a)\n",
    "print(\"a.shape =\", a.shape)\n",
    "print()\n",
    "\n",
    "b = np.zeros((2, 3), dtype=np.float32)\n",
    "print(\"b =\", b)\n",
    "print(\"b.shape =\", b.shape)"
   ]
  },
  {
   "cell_type": "markdown",
   "metadata": {
    "deletable": true,
    "editable": true
   },
   "source": [
    "A `np.array` is a multidimensional array - a very flexible thing, it can be:\n",
    " - 0-dimensional (a number, like `5`)\n",
    " - 1-dimensional (a vector, like `a` above)\n",
    " - 2-dimensional (a matrix, like `b` above)\n",
    " - N-dimensional (...)\n",
    "\n",
    "It can also contain either whole numbers (`np.int32`) or real numbers (`np.float32`).\n",
    "\n",
    "OK, I've done a bit much now - time for you...\n",
    "\n",
    "_**Exercise** - create the following numpy arrays, and print out the shape:_"
   ]
  },
  {
   "cell_type": "code",
   "execution_count": null,
   "metadata": {
    "collapsed": false,
    "deletable": true,
    "editable": true
   },
   "outputs": [],
   "source": [
    "# EXERCISE\n",
    "# 1. an array scalar containing the integer 5\n",
    "\n",
    "# 2. a (10, 20) array of zero integers\n",
    "\n",
    "# 3. a (3, 3) array of different float (non-integer) numbers (hint: use a list-of-lists)\n"
   ]
  },
  {
   "cell_type": "markdown",
   "metadata": {
    "deletable": true,
    "editable": true
   },
   "source": [
    "Now we just need a few ways of working with these arrays - here are some examples of things that you can do:"
   ]
  },
  {
   "cell_type": "code",
   "execution_count": null,
   "metadata": {
    "collapsed": false,
    "deletable": true,
    "editable": true
   },
   "outputs": [],
   "source": [
    "x = np.array([[1, 2, 3], [4, 5, 6]], dtype=np.int32)\n",
    "print(\"x =\\n%s\" % x)\n",
    "print()\n",
    "\n",
    "# Indexing\n",
    "print(\"x[0, 1] =\", x[0, 1]) # 0th row, 1st column\n",
    "print(\"x[1, 1] =\", x[1, 1]) # 1st row, 1st column\n",
    "print()\n",
    "\n",
    "# Slicing\n",
    "print(\"x[0, :] =\", x[0, :]) # 0th row, all columns\n",
    "print(\"x[:, 2] =\", x[:, 2]) # 2nd column, all rows\n",
    "print(\"x[1, :] =\", x[1, :]) # 1st row, all columns\n",
    "print(\"x[1, 0:2] =\", x[1, 0:2]) # 1st row, first two columns\n",
    "print()\n",
    "\n",
    "# Other numpy functions (there are very many more...)\n",
    "print(\"np.argmax(x[0, :]) =\", np.argmax(x[0, :])) # Find the index of the maximum element in the 0th row"
   ]
  },
  {
   "cell_type": "markdown",
   "metadata": {
    "deletable": true,
    "editable": true
   },
   "source": [
    "I won't explain all of this in detail, but have a play around with arrays, see what you can do with the above operations.\n",
    "\n",
    "_**Exercise**_ Try to use your numpy operations to find the following with `M`:"
   ]
  },
  {
   "cell_type": "code",
   "execution_count": null,
   "metadata": {
    "collapsed": false,
    "deletable": true,
    "editable": true
   },
   "outputs": [],
   "source": [
    "M = np.arange(900, dtype=np.float32).reshape(45, 20)\n",
    "print(M.shape)\n",
    "\n",
    "# EXERCISE\n",
    "# 1. print out row number 0 (hint, it should be shape (20,))\n",
    "\n",
    "# 2. print out row number 34\n",
    "\n",
    "# 3. select column 15, print out the shape\n",
    "\n",
    "# 4. select rows 30-40 inclusive, columns 5-8 inclusive, print out the shape (hint: should be (11, 4))\n",
    "s = None # your selection here\n",
    "\n",
    "# 5. find the maximum element in `s` (hint: max is similar to argmax, google it)\n"
   ]
  },
  {
   "cell_type": "markdown",
   "metadata": {
    "deletable": true,
    "editable": true
   },
   "source": [
    "## 2. Chainer\n",
    "\n",
    "We'll use numpy to get data in & out of Chainer, which is our deep learning library, but Chainer will do most of the data processing.\n",
    "\n",
    "Here is how you get some data into Chainer, use a linear operation to change its shape, and get the result back out again:"
   ]
  },
  {
   "cell_type": "code",
   "execution_count": null,
   "metadata": {
    "collapsed": false,
    "deletable": true,
    "editable": true
   },
   "outputs": [],
   "source": [
    "a = C.Variable(np.zeros((10, 20), dtype=np.float32))\n",
    "print(\"a.data.shape =\", a.data.shape)\n",
    "\n",
    "transformation = C.links.Linear(20, 30)\n",
    "b = transformation(a)\n",
    "print(\"b.data.shape =\", b.data.shape)\n",
    "\n",
    "c = C.functions.tanh(b)\n",
    "print(\"c.data.shape =\", c.data.shape)"
   ]
  },
  {
   "cell_type": "markdown",
   "metadata": {
    "deletable": true,
    "editable": true
   },
   "source": [
    "This may not seem particularly special, but this is the heart of a deep learning function. Take an input array, make various transformations that mess around with the shape, and produce an output array.\n",
    "\n",
    "Some concepts:\n",
    " - A `Variable` holds an array - this is some data going through the function\n",
    " - A `Link` contains some parameters (these start random), which process an input Variable, and produce an output Variable.\n",
    " - A `Function` is a `Link` without any parameters (like sin, cos, tan, tanh, max... so many more...)\n",
    "\n",
    "_**Exercise** - use Chainer to calculate the following:_"
   ]
  },
  {
   "cell_type": "code",
   "execution_count": null,
   "metadata": {
    "collapsed": false,
    "deletable": true,
    "editable": true
   },
   "outputs": [],
   "source": [
    "angle = C.Variable(np.array(np.pi / 6, dtype=np.float32))\n",
    "print(\"angle =\", angle.data)\n",
    "\n",
    "# EXERCISE\n",
    "# 1. Print out sin(angle), using chainer\n",
    "\n",
    "# 2. Create an array, shape (2, 3) of various float numbers, put it in a variable\n",
    "a = None # your array here\n",
    "\n",
    "# 3. Print out tanh(a) (for the whole array)\n",
    "\n",
    "# 4. Try changing the numbers in `a` - what range of numbers can you get out of tanh?\n",
    "\n",
    "# 5. Create a linear link of shape (3, 5) - this means it takes (N, 3) and produces (N, 5)\n",
    "mylink = None # your link here\n",
    "\n",
    "# 6. Use your link to transform `a`, then take the tanh, check the shape of the result\n",
    "\n",
    "# 7. Uncomment the following; what happens when you re-run the code?\n",
    "# print(\"W =\", mylink.W.data)"
   ]
  },
  {
   "cell_type": "markdown",
   "metadata": {
    "deletable": true,
    "editable": true
   },
   "source": [
    "If you can do all of this, you're basically there - ready to create a deep learning function.\n",
    "\n",
    "In the last step, you may have noticed something interesting - the parameters inside the link change every time it is re-created. This is because deep learning functions start off random! Random functions don't sound too useful, so next we're going to learn how to \"teach\" them to be useful functions."
   ]
  },
  {
   "cell_type": "markdown",
   "metadata": {
    "deletable": true,
    "editable": true
   },
   "source": [
    "## Summary\n",
    "\n",
    "OK - this is quite fast paced, but take a second to pause - so far, you've learnt how to do the following:\n",
    " - Create and inspect the shape of numpy arrays.\n",
    " - Slice & select parts of numpy arrays.\n",
    " - Put numpy arrays into chainer variables.\n",
    " - Process Chainer variables using links and functions\n",
    "\n",
    "Next, we're putting all of this together, adding _training_, as we teach a deep learning function to recognize handwritten digits."
   ]
  }
 ],
 "metadata": {
  "kernelspec": {
   "display_name": "Python 3",
   "language": "python",
   "name": "python3"
  },
  "language_info": {
   "codemirror_mode": {
    "name": "ipython",
    "version": 3
   },
   "file_extension": ".py",
   "mimetype": "text/x-python",
   "name": "python",
   "nbconvert_exporter": "python",
   "pygments_lexer": "ipython3",
   "version": "3.5.2"
  }
 },
 "nbformat": 4,
 "nbformat_minor": 2
}
