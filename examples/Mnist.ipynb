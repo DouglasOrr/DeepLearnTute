{
 "cells": [
  {
   "cell_type": "code",
   "execution_count": null,
   "metadata": {
    "collapsed": true
   },
   "outputs": [],
   "source": [
    "%matplotlib inline\n",
    "import chainer as C\n",
    "import numpy as np\n",
    "import seaborn as sns\n",
    "import matplotlib.pyplot as plt"
   ]
  },
  {
   "cell_type": "code",
   "execution_count": null,
   "metadata": {
    "collapsed": false
   },
   "outputs": [],
   "source": [
    "import pickle, gzip\n",
    "with gzip.open('/data/mnist.pkl.gz') as f:\n",
    "    unpick = pickle._Unpickler(f)\n",
    "    unpick.encoding = 'latin1'\n",
    "    train, valid, test = unpick.load()"
   ]
  },
  {
   "cell_type": "code",
   "execution_count": null,
   "metadata": {
    "collapsed": false
   },
   "outputs": [],
   "source": [
    "train[0].shape"
   ]
  },
  {
   "cell_type": "code",
   "execution_count": null,
   "metadata": {
    "collapsed": false
   },
   "outputs": [],
   "source": [
    "for i in range(16):\n",
    "    plt.subplot(4, 4, i + 1)\n",
    "    plt.imshow(train[0][i].reshape((28, 28)))\n",
    "    plt.axis('off')"
   ]
  },
  {
   "cell_type": "code",
   "execution_count": null,
   "metadata": {
    "collapsed": false
   },
   "outputs": [],
   "source": [
    "class Network(C.Chain):\n",
    "    def __init__(self):\n",
    "        super().__init__(\n",
    "            a=C.links.Linear(784, 128),\n",
    "            b=C.links.Linear(128, 128),\n",
    "            c=C.links.Linear(128, 128),\n",
    "            final=C.links.Linear(128, 10),\n",
    "        )\n",
    "\n",
    "    def __call__(self, x):\n",
    "        w = x\n",
    "        w = C.functions.tanh(self.a(w))\n",
    "        w = C.functions.tanh(self.b(w))\n",
    "        w = C.functions.tanh(self.c(w))\n",
    "        return self.final(w)"
   ]
  },
  {
   "cell_type": "code",
   "execution_count": null,
   "metadata": {
    "collapsed": false
   },
   "outputs": [],
   "source": [
    "batch_size = 32\n",
    "\n",
    "network = Network()\n",
    "opt = C.optimizers.Adam()\n",
    "opt.use_cleargrads()\n",
    "opt.setup(network)\n",
    "\n",
    "accuracies = []\n",
    "for i in range(0, len(train[0]), batch_size):\n",
    "    batch_x = C.Variable(train[0][i:(i + batch_size)])\n",
    "    batch_y = C.Variable(train[1][i:(i + batch_size)].astype(np.int32))\n",
    "\n",
    "    network.cleargrads()\n",
    "    z = network(batch_x)\n",
    "    c = C.functions.softmax_cross_entropy(z, batch_y)\n",
    "    c.backward()\n",
    "    opt.update()\n",
    "\n",
    "    a = 100 * C.functions.accuracy(z, batch_y)\n",
    "    #print(\"Loss = %.2f, Accuracy = %.2f%%\" % (c.data, a.data))\n",
    "    accuracies.append(float(a.data))\n",
    "\n",
    "valid_accuracy = 100 * C.functions.accuracy(\n",
    "    network(C.Variable(valid[0])), C.Variable(valid[1].astype(np.int32)))\n",
    "print(\"Validation Accuracy = %.2f%%\" % (a.data))"
   ]
  },
  {
   "cell_type": "code",
   "execution_count": null,
   "metadata": {
    "collapsed": false
   },
   "outputs": [],
   "source": [
    "plt.plot(accuracies)"
   ]
  }
 ],
 "metadata": {
  "kernelspec": {
   "display_name": "Python 3",
   "language": "python",
   "name": "python3"
  },
  "language_info": {
   "codemirror_mode": {
    "name": "ipython",
    "version": 3
   },
   "file_extension": ".py",
   "mimetype": "text/x-python",
   "name": "python",
   "nbconvert_exporter": "python",
   "pygments_lexer": "ipython3",
   "version": "3.5.2"
  }
 },
 "nbformat": 4,
 "nbformat_minor": 2
}
