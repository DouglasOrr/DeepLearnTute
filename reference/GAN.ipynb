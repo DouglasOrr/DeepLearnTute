{
 "cells": [
  {
   "cell_type": "markdown",
   "metadata": {
    "deletable": true,
    "editable": true
   },
   "source": [
    "# An attempt at implementing a (W)GAN\n",
    "\n",
    "Based on:\n",
    " - [Generate Adversarial Text to Image Synthesis](https://arxiv.org/pdf/1605.05396.pdf)\n",
    " - [Improved Training of Wasserstien GANs](https://arxiv.org/pdf/1704.00028.pdf)"
   ]
  },
  {
   "cell_type": "code",
   "execution_count": null,
   "metadata": {
    "collapsed": true
   },
   "outputs": [],
   "source": [
    "%matplotlib inline\n",
    "%env CHAINER_TYPE_CHECK 0\n",
    "import dlt\n",
    "import numpy as np\n",
    "import seaborn as sns\n",
    "import chainer as C\n",
    "import matplotlib.pyplot as plt\n",
    "import itertools as it\n",
    "\n",
    "train = dlt.load_hdf5('/data/uji/train.hdf')\n",
    "valid = dlt.load_hdf5('/data/uji/valid.hdf')\n",
    "print(\"  Training: %s\" % train)\n",
    "print(\"Validation: %s\" % valid)"
   ]
  },
  {
   "cell_type": "code",
   "execution_count": null,
   "metadata": {
    "collapsed": true,
    "deletable": true,
    "editable": true
   },
   "outputs": [],
   "source": [
    "# Utility functions\n",
    "\n",
    "def show(batch, im_size=1.5):\n",
    "    '''Show a batch of images.\n",
    "    '''\n",
    "    if batch.ndim == 2:\n",
    "        batch = batch[np.newaxis, ...]\n",
    "    size = int(np.sqrt(batch.shape[-1]))\n",
    "    plt.figure(figsize=(im_size * batch.shape[1], im_size * batch.shape[0]))\n",
    "    for plot_index, x in zip(it.count(1), batch.reshape(-1, batch.shape[-1])):\n",
    "        plt.subplot(batch.shape[0], batch.shape[1], plot_index)\n",
    "        plt.imshow(x.reshape(size, size))\n",
    "        plt.gca().set_xticks([])\n",
    "        plt.gca().set_yticks([])\n",
    "        plt.gca().grid(False)\n",
    "        \n",
    "class GradientFlip(C.Function):\n",
    "    def __init__(self, f=-1):\n",
    "        self.f = f\n",
    "    def forward(self, inputs):\n",
    "        return inputs\n",
    "    def backward(self, inputs, grad_outputs):\n",
    "        return tuple(self.f * x for x in grad_outputs)"
   ]
  },
  {
   "cell_type": "code",
   "execution_count": null,
   "metadata": {
    "collapsed": true,
    "deletable": true,
    "editable": true
   },
   "outputs": [],
   "source": [
    "# Optimization objective\n",
    "#   min_G [ max_C [ mean_{x~X} [ C(x) ] - mean_{z~G} [ C(z) ] ] ]\n",
    "# Requiring C is 1-Libschitz\n",
    "\n",
    "class HiddenLayers(C.ChainList):\n",
    "    def __init__(self, d, n=1):\n",
    "        super().__init__(*(C.links.Linear(d, d) for _ in range(n)))\n",
    "    def __call__(self, x):\n",
    "        for layer in self:\n",
    "            x = C.functions.elu(layer(x))\n",
    "        return x\n",
    "\n",
    "class Generator(C.Chain):\n",
    "    def __init__(self, D_noise, D_hidden, D_output, nhidden=1):\n",
    "        self.D_noise = D_noise\n",
    "        super().__init__(\n",
    "            initial=C.links.Linear(D_noise, D_hidden),\n",
    "            hidden=HiddenLayers(D_hidden, nhidden),\n",
    "            final=C.links.Linear(D_hidden, D_output),\n",
    "        )\n",
    "    def __call__(self, N):\n",
    "        noise = C.Variable(np.random.rand(N, self.D_noise).astype(np.float32))\n",
    "        hidden = self.hidden(C.functions.elu(self.initial(noise)))\n",
    "        return C.functions.sigmoid(self.final(hidden))\n",
    "\n",
    "class Critic(C.Chain):\n",
    "    def __init__(self, D_input, D_hidden, nhidden=1):\n",
    "        super().__init__(\n",
    "            initial=C.links.Linear(D_input, D_hidden),\n",
    "            hidden=HiddenLayers(D_hidden, nhidden),\n",
    "            final=C.links.Linear(D_hidden, 1, nobias=True),\n",
    "        )\n",
    "    def __call__(self, batch):\n",
    "        hidden = self.hidden(C.functions.elu(self.initial(batch)))\n",
    "        return C.functions.sum(self.final(hidden)) / batch.shape[0]"
   ]
  },
  {
   "cell_type": "code",
   "execution_count": null,
   "metadata": {
    "collapsed": false,
    "deletable": true,
    "editable": true
   },
   "outputs": [],
   "source": [
    "batch_size = 128\n",
    "max_batches = 100000\n",
    "clip = 1\n",
    "backratio = -0.01\n",
    "\n",
    "sample_every = max_batches // 10\n",
    "network = C.Chain(\n",
    "    generator=Generator(10, 128, 256, nhidden=1),\n",
    "    critic=Critic(256, 128, nhidden=2),\n",
    ")\n",
    "opt = C.optimizers.Adam()\n",
    "opt.use_cleargrads()\n",
    "opt.setup(network)\n",
    "\n",
    "log = dlt.Log()\n",
    "samples = []\n",
    "for step, i in enumerate(it.islice(it.cycle(range(0, len(train.x), batch_size)), 0, max_batches)):\n",
    "    network.cleargrads()\n",
    "    real = C.Variable(train.x[i:i+batch_size])\n",
    "    fake = GradientFlip(backratio)(network.generator(batch_size))\n",
    "    loss = network.critic(fake) - network.critic(real)\n",
    "    for p in network.critic.params():\n",
    "        r = clip / np.sqrt(p.data.size)\n",
    "        p.data = np.clip(p.data, -r, r)\n",
    "    loss.backward()\n",
    "    opt.update()\n",
    "    log.add('loss', 'train', loss)\n",
    "    if step % sample_every == 0:\n",
    "        samples.append(fake.data)\n",
    "\n",
    "log.show()\n",
    "show(train.x[:5])\n",
    "show(np.stack(samples)[:, :5, :])"
   ]
  },
  {
   "cell_type": "code",
   "execution_count": null,
   "metadata": {
    "collapsed": false,
    "deletable": true,
    "editable": true
   },
   "outputs": [],
   "source": [
    "n = sum(1 for _ in network.critic.params())\n",
    "plt.figure(figsize=(12, 4*n))\n",
    "for i, (name, param) in enumerate(network.critic.namedparams()):\n",
    "    plt.subplot(n, 1, i+1)\n",
    "    plt.title(name)\n",
    "    sns.distplot(param.data.flatten(), kde=False)"
   ]
  },
  {
   "cell_type": "code",
   "execution_count": null,
   "metadata": {
    "collapsed": false,
    "deletable": true,
    "editable": true
   },
   "outputs": [],
   "source": [
    "show(network.generator(64).data.reshape((8,8,-1)))"
   ]
  }
 ],
 "metadata": {
  "kernelspec": {
   "display_name": "Python 3",
   "language": "python",
   "name": "python3"
  },
  "language_info": {
   "codemirror_mode": {
    "name": "ipython",
    "version": 3
   },
   "file_extension": ".py",
   "mimetype": "text/x-python",
   "name": "python",
   "nbconvert_exporter": "python",
   "pygments_lexer": "ipython3",
   "version": "3.5.2"
  }
 },
 "nbformat": 4,
 "nbformat_minor": 2
}
